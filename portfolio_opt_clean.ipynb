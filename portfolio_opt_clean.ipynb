{
 "cells": [
  {
   "cell_type": "code",
   "execution_count": null,
   "metadata": {},
   "outputs": [],
   "source": [
    "import quandl\n",
    "quandl.ApiConfig.api_key = ''"
   ]
  },
  {
   "cell_type": "code",
   "execution_count": null,
   "metadata": {},
   "outputs": [],
   "source": [
    "import numpy as np\n",
    "from numpy.linalg import inv\n",
    "import pandas as pd\n",
    "import matplotlib.pyplot as plt"
   ]
  },
  {
   "cell_type": "code",
   "execution_count": null,
   "metadata": {},
   "outputs": [],
   "source": [
    "tickers = ['SPY','TLT','TIP','GLD']\n",
    "factors = ['S&P 500','Treasury Bonds','TIPS','Gold']\n",
    "fund_df = quandl.get_table('SHARADAR/SFP', ticker=tickers, paginate=True)\n",
    "fund_df.sort_values(by='date', ascending=True, inplace=True)"
   ]
  },
  {
   "cell_type": "code",
   "execution_count": null,
   "metadata": {},
   "outputs": [],
   "source": [
    "master = fund_df[fund_df['ticker']=='SPY'][['date','close']].copy(deep=True)\n",
    "master.set_index('date', inplace=True)\n",
    "master.rename({'close': factors[0]}, axis=1, inplace=True)\n",
    "\n",
    "div = fund_df[fund_df['ticker']=='SPY'][['date','dividends']].copy(deep=True)\n",
    "div.set_index('date', inplace=True)\n",
    "div.rename({'dividends': factors[0]}, axis=1, inplace=True)\n",
    "\n",
    "for i, ticker in enumerate(tickers[1:]):\n",
    "    merge_df = fund_df[fund_df['ticker']==ticker][['date','close']].set_index('date')\n",
    "    master = master.merge(merge_df, how='left', left_index=True, right_index=True)\n",
    "    master.rename({'close': factors[i+1]}, axis=1, inplace=True)\n",
    "    \n",
    "    merge_df = fund_df[fund_df['ticker']==ticker][['date','dividends']].set_index('date')\n",
    "    div = div.merge(merge_df, how='left', left_index=True, right_index=True)\n",
    "    div.rename({'dividends': factors[i+1]}, axis=1, inplace=True)\n",
    "    \n",
    "master.dropna(inplace=True)\n",
    "\n",
    "final = master/master.shift(1)-1 + div/master"
   ]
  },
  {
   "cell_type": "code",
   "execution_count": null,
   "metadata": {},
   "outputs": [],
   "source": [
    "print(final.tail(5))"
   ]
  },
  {
   "cell_type": "code",
   "execution_count": null,
   "metadata": {},
   "outputs": [],
   "source": [
    "# final is a dataframe of daily returns for the assets\n",
    "\n",
    "# I use the historical mean return for my expected return\n",
    "E = np.array(final.mean(axis=0)).reshape(-1,1)\n",
    "\n",
    "# Calculate the covariance matrix of the asset's returns\n",
    "cov_matrix = np.array(final.cov())\n",
    "\n",
    "# Ones vector\n",
    "ones = np.ones((E.shape[0],1))\n",
    "\n",
    "zeros = np.zeros((2,2))"
   ]
  },
  {
   "cell_type": "code",
   "execution_count": null,
   "metadata": {},
   "outputs": [],
   "source": [
    "# Put together the A matrix\n",
    "A = 2*cov_matrix\n",
    "A = np.append(A, E.T, axis=0)\n",
    "A = np.append(A, ones.T, axis=0)\n",
    "temp = np.append(E, ones, axis=1)\n",
    "temp = np.append(temp, zeros, axis=0)\n",
    "A = np.append(A, temp, axis=1)\n",
    "\n",
    "# Put together the b vector\n",
    "b = np.array([[0],\n",
    "              [0],\n",
    "              [0],\n",
    "              [0],\n",
    "              E[0],  # I set the target return to be\n",
    "              [1]])  # the expected return of stocks\n",
    "\n",
    "# So in essense, I am looking for an optimal portfolio\n",
    "# that is expected to give the same return as I get from\n",
    "# investing in stocks (but with lower risk)"
   ]
  },
  {
   "cell_type": "code",
   "execution_count": null,
   "metadata": {},
   "outputs": [],
   "source": [
    "# Optimize using matrix algebra\n",
    "\n",
    "results = inv(A)@b\n",
    "# Grab first 4 elements (because 4 assets)\n",
    "opt_W = results[:final.shape[1]]\n",
    "\n",
    "print(pd.DataFrame(opt_W, index=final.columns, columns=['Optimal Weights']))"
   ]
  },
  {
   "cell_type": "code",
   "execution_count": null,
   "metadata": {},
   "outputs": [],
   "source": [
    "# Portfolio expected return\n",
    "opt_W.T@E*250"
   ]
  },
  {
   "cell_type": "code",
   "execution_count": null,
   "metadata": {},
   "outputs": [],
   "source": [
    "# Portfolio volatility\n",
    "(opt_W.T@cov_matrix@opt_W)**0.5*(250**0.5)"
   ]
  },
  {
   "cell_type": "code",
   "execution_count": null,
   "metadata": {},
   "outputs": [],
   "source": [
    "backtest = pd.concat([final, final@opt_W], axis=1)\n",
    "backtest.rename({0: 'Optimal'}, axis=1, inplace=True)\n",
    "ax = ((backtest+1).cumprod()-1).plot(kind='line', figsize=(9,6));\n",
    "ax.set_ylabel('Cumulative Return')\n",
    "plt.tight_layout()\n",
    "plt.savefig('optimized_portfolio', bpi=150)"
   ]
  },
  {
   "cell_type": "code",
   "execution_count": null,
   "metadata": {},
   "outputs": [],
   "source": [
    "print(pd.DataFrame(A))"
   ]
  },
  {
   "cell_type": "code",
   "execution_count": null,
   "metadata": {},
   "outputs": [],
   "source": [
    "print(pd.DataFrame(b))"
   ]
  },
  {
   "cell_type": "code",
   "execution_count": null,
   "metadata": {},
   "outputs": [],
   "source": []
  }
 ],
 "metadata": {
  "kernelspec": {
   "display_name": "Python 3",
   "language": "python",
   "name": "python3"
  },
  "language_info": {
   "codemirror_mode": {
    "name": "ipython",
    "version": 3
   },
   "file_extension": ".py",
   "mimetype": "text/x-python",
   "name": "python",
   "nbconvert_exporter": "python",
   "pygments_lexer": "ipython3",
   "version": "3.7.1"
  }
 },
 "nbformat": 4,
 "nbformat_minor": 2
}
